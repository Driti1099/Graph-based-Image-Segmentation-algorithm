{
 "cells": [
  {
   "cell_type": "code",
   "execution_count": 4,
   "id": "da88cee1-9147-4389-9ed3-cd8e075005d3",
   "metadata": {
    "tags": []
   },
   "outputs": [],
   "source": [
    "import cv2\n",
    "import numpy as np\n",
    "from skimage.segmentation import slic\n",
    "from skimage.color import label2rgb"
   ]
  },
  {
   "cell_type": "code",
   "execution_count": 5,
   "id": "66a1e009-87f8-4dbb-b386-d2a49c5e1b3f",
   "metadata": {
    "tags": []
   },
   "outputs": [],
   "source": [
    "# Load the image\n",
    "image = cv2.imread('C:\\\\Users\\\\Driti\\\\Downloads\\\\15.jpg')"
   ]
  },
  {
   "cell_type": "code",
   "execution_count": 6,
   "id": "8e8c9d26-1fc3-4649-8adf-f53c0f828870",
   "metadata": {
    "tags": []
   },
   "outputs": [],
   "source": [
    "# Convert the image to RGB color space\n",
    "image_rgb = cv2.cvtColor(image, cv2.COLOR_BGR2RGB)"
   ]
  },
  {
   "cell_type": "code",
   "execution_count": 7,
   "id": "894bee9b-5bbe-4679-9a69-4045e69e1b4d",
   "metadata": {
    "tags": []
   },
   "outputs": [],
   "source": [
    "# Perform superpixel segmentation using SLIC algorithm\n",
    "segments = slic(image_rgb, n_segments=100, compactness=10, sigma=1)"
   ]
  },
  {
   "cell_type": "code",
   "execution_count": 8,
   "id": "8879c4c6-d1ff-49ae-bcf4-5affcb59f961",
   "metadata": {
    "tags": []
   },
   "outputs": [],
   "source": [
    "# Create a mask image based on the segments\n",
    "mask = np.zeros_like(image)\n",
    "for label in np.unique(segments):\n",
    "    mask[segments == label] = np.median(image[segments == label], axis=0)"
   ]
  },
  {
   "cell_type": "code",
   "execution_count": 9,
   "id": "289c2fb5-0869-426f-8eb1-b1181678cf39",
   "metadata": {
    "tags": []
   },
   "outputs": [],
   "source": [
    "# Convert the mask image to RGB color space\n",
    "mask_rgb = cv2.cvtColor(mask, cv2.COLOR_BGR2RGB)"
   ]
  },
  {
   "cell_type": "code",
   "execution_count": 10,
   "id": "63ae87d2-9cb0-4131-8249-a852909c27fc",
   "metadata": {
    "tags": []
   },
   "outputs": [],
   "source": [
    "# Convert the segmented image to grayscale\n",
    "mask_gray = cv2.cvtColor(mask, cv2.COLOR_RGB2GRAY)"
   ]
  },
  {
   "cell_type": "code",
   "execution_count": 11,
   "id": "50485986-9e53-455e-8e9e-566dab10ac7d",
   "metadata": {},
   "outputs": [],
   "source": [
    "# Apply thresholding\n",
    "retval, threshold = cv2.threshold(mask_gray, thresh=180, maxval=255, type=cv2.THRESH_BINARY)"
   ]
  },
  {
   "cell_type": "code",
   "execution_count": null,
   "id": "14f5fa21-44a8-4654-892d-f323bf032932",
   "metadata": {},
   "outputs": [],
   "source": [
    "# Display the original image and the segmented image\n",
    "cv2.imshow('Original Image', image)\n",
    "cv2.imshow('Segmented Image', mask_rgb)\n",
    "cv2.imshow('Threshold Image', threshold)\n",
    "cv2.waitKey(0)\n",
    "cv2.destroyAllWindows()"
   ]
  },
  {
   "cell_type": "code",
   "execution_count": null,
   "id": "2e054069-87c3-48b4-bea9-470eff2d939b",
   "metadata": {},
   "outputs": [],
   "source": []
  }
 ],
 "metadata": {
  "kernelspec": {
   "display_name": "Python 3 (ipykernel)",
   "language": "python",
   "name": "python3"
  },
  "language_info": {
   "codemirror_mode": {
    "name": "ipython",
    "version": 3
   },
   "file_extension": ".py",
   "mimetype": "text/x-python",
   "name": "python",
   "nbconvert_exporter": "python",
   "pygments_lexer": "ipython3",
   "version": "3.12.1"
  }
 },
 "nbformat": 4,
 "nbformat_minor": 5
}
